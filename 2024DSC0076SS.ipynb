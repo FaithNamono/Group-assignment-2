{
 "cells": [
  {
   "cell_type": "markdown",
   "id": "b29d3a1f-bba5-459a-95f0-f492e566fdd3",
   "metadata": {},
   "source": [
    "# Import libraries "
   ]
  },
  {
   "cell_type": "code",
   "execution_count": 37,
   "id": "8e41aa05-7349-4031-85df-12743eadfed8",
   "metadata": {},
   "outputs": [],
   "source": [
    "import pandas as pd"
   ]
  },
  {
   "cell_type": "code",
   "execution_count": 38,
   "id": "a527b331-8f40-47d2-af99-c775602207cd",
   "metadata": {},
   "outputs": [],
   "source": [
    "import numpy as np"
   ]
  },
  {
   "cell_type": "code",
   "execution_count": 39,
   "id": "221c8bcb-beb8-478f-abdf-95e8bc31b738",
   "metadata": {},
   "outputs": [],
   "source": [
    "import matplotlib.pyplot as plt"
   ]
  },
  {
   "cell_type": "code",
   "execution_count": 40,
   "id": "c57845f4-3332-422d-b394-af674e0c0fb7",
   "metadata": {},
   "outputs": [],
   "source": [
    "import seaborn as sns"
   ]
  },
  {
   "cell_type": "markdown",
   "id": "730c201a-3d83-4c27-a50c-5c509e5ceaa5",
   "metadata": {},
   "source": [
    "# Question one"
   ]
  },
  {
   "cell_type": "markdown",
   "id": "70901ca9-1cc9-42f5-81dd-0b7a1421179c",
   "metadata": {},
   "source": [
    "## Variation and variability"
   ]
  },
  {
   "cell_type": "markdown",
   "id": "5713e670-f456-44ac-b273-18bb57cd4989",
   "metadata": {},
   "source": [
    "## a)"
   ]
  },
  {
   "cell_type": "code",
   "execution_count": null,
   "id": "45aecdbf-36ff-40de-a556-02ecbf654efc",
   "metadata": {},
   "outputs": [],
   "source": [
    "##  In reference: Measures of central tendency ( lecture 4- Exploratory data analylsis using python on pages 7-8)"
   ]
  },
  {
   "cell_type": "code",
   "execution_count": 41,
   "id": "2e156c1c-e5a1-47ba-8b6b-de02ee0e9967",
   "metadata": {},
   "outputs": [
    {
     "data": {
      "text/html": [
       "<div>\n",
       "<style scoped>\n",
       "    .dataframe tbody tr th:only-of-type {\n",
       "        vertical-align: middle;\n",
       "    }\n",
       "\n",
       "    .dataframe tbody tr th {\n",
       "        vertical-align: top;\n",
       "    }\n",
       "\n",
       "    .dataframe thead th {\n",
       "        text-align: right;\n",
       "    }\n",
       "</style>\n",
       "<table border=\"1\" class=\"dataframe\">\n",
       "  <thead>\n",
       "    <tr style=\"text-align: right;\">\n",
       "      <th></th>\n",
       "      <th>Age</th>\n",
       "      <th>Sex</th>\n",
       "      <th>Marital_status</th>\n",
       "      <th>Number_of_children</th>\n",
       "      <th>Family_size</th>\n",
       "      <th>Education-degree_recode</th>\n",
       "      <th>Education-degree_recode 2</th>\n",
       "      <th>Education</th>\n",
       "      <th>Race_ethnicity-multi_recode</th>\n",
       "      <th>Immigrate-year</th>\n",
       "      <th>Birthplace_recode</th>\n",
       "      <th>Speaks_English</th>\n",
       "      <th>Employment_status</th>\n",
       "      <th>Income-wages</th>\n",
       "      <th>Region_recode</th>\n",
       "      <th>Region-division_recode</th>\n",
       "      <th>Moved</th>\n",
       "      <th>Year</th>\n",
       "      <th>state</th>\n",
       "    </tr>\n",
       "  </thead>\n",
       "  <tbody>\n",
       "    <tr>\n",
       "      <th>0</th>\n",
       "      <td>30</td>\n",
       "      <td>Male</td>\n",
       "      <td>Married, spouse present</td>\n",
       "      <td>2</td>\n",
       "      <td>4</td>\n",
       "      <td>Masterâ€™s or professional degree</td>\n",
       "      <td>Master or professional degree</td>\n",
       "      <td>Master or PhD or professional degree</td>\n",
       "      <td>Non-Hispanic White</td>\n",
       "      <td>0</td>\n",
       "      <td>U.S. state, territory, or outlying region</td>\n",
       "      <td>Yes, speaks only English</td>\n",
       "      <td>Employed</td>\n",
       "      <td>63000</td>\n",
       "      <td>South</td>\n",
       "      <td>East South Central</td>\n",
       "      <td>Same house</td>\n",
       "      <td>2020</td>\n",
       "      <td>Tennessee</td>\n",
       "    </tr>\n",
       "    <tr>\n",
       "      <th>1</th>\n",
       "      <td>28</td>\n",
       "      <td>Female</td>\n",
       "      <td>Married, spouse present</td>\n",
       "      <td>1 child present</td>\n",
       "      <td>3</td>\n",
       "      <td>Masterâ€™s or professional degree</td>\n",
       "      <td>Master or professional degree</td>\n",
       "      <td>Master or PhD or professional degree</td>\n",
       "      <td>Non-Hispanic White</td>\n",
       "      <td>0</td>\n",
       "      <td>U.S. state, territory, or outlying region</td>\n",
       "      <td>Yes, speaks only English</td>\n",
       "      <td>Employed</td>\n",
       "      <td>46000</td>\n",
       "      <td>South</td>\n",
       "      <td>East South Central</td>\n",
       "      <td>Same house</td>\n",
       "      <td>2020</td>\n",
       "      <td>Tennessee</td>\n",
       "    </tr>\n",
       "    <tr>\n",
       "      <th>2</th>\n",
       "      <td>34</td>\n",
       "      <td>Male</td>\n",
       "      <td>Married, spouse present</td>\n",
       "      <td>1 child present</td>\n",
       "      <td>3</td>\n",
       "      <td>Bachelorâ€™s degree</td>\n",
       "      <td>Bachelor degree</td>\n",
       "      <td>Associate or Bachelor degree</td>\n",
       "      <td>Non-Hispanic White</td>\n",
       "      <td>0</td>\n",
       "      <td>U.S. state, territory, or outlying region</td>\n",
       "      <td>Yes, speaks only English</td>\n",
       "      <td>Employed</td>\n",
       "      <td>45000</td>\n",
       "      <td>South</td>\n",
       "      <td>East South Central</td>\n",
       "      <td>Same house</td>\n",
       "      <td>2020</td>\n",
       "      <td>Tennessee</td>\n",
       "    </tr>\n",
       "    <tr>\n",
       "      <th>3</th>\n",
       "      <td>58</td>\n",
       "      <td>Female</td>\n",
       "      <td>Married, spouse absent</td>\n",
       "      <td>1 child present</td>\n",
       "      <td>2</td>\n",
       "      <td>1 or more years of college, no degree</td>\n",
       "      <td>1 or more years of college, no degree</td>\n",
       "      <td>1 or more years of college, no degree</td>\n",
       "      <td>Non-Hispanic White</td>\n",
       "      <td>0</td>\n",
       "      <td>U.S. state, territory, or outlying region</td>\n",
       "      <td>Yes, speaks only English</td>\n",
       "      <td>Employed</td>\n",
       "      <td>55000</td>\n",
       "      <td>South</td>\n",
       "      <td>East South Central</td>\n",
       "      <td>Same house</td>\n",
       "      <td>2020</td>\n",
       "      <td>Tennessee</td>\n",
       "    </tr>\n",
       "    <tr>\n",
       "      <th>4</th>\n",
       "      <td>39</td>\n",
       "      <td>Male</td>\n",
       "      <td>Never married/single</td>\n",
       "      <td>0 children present</td>\n",
       "      <td>1</td>\n",
       "      <td>Bachelorâ€™s degree</td>\n",
       "      <td>Bachelor degree</td>\n",
       "      <td>Associate or Bachelor degree</td>\n",
       "      <td>Non-Hispanic White</td>\n",
       "      <td>0</td>\n",
       "      <td>U.S. state, territory, or outlying region</td>\n",
       "      <td>Yes, speaks only English</td>\n",
       "      <td>Employed</td>\n",
       "      <td>12000</td>\n",
       "      <td>South</td>\n",
       "      <td>East South Central</td>\n",
       "      <td>Same house</td>\n",
       "      <td>2020</td>\n",
       "      <td>Tennessee</td>\n",
       "    </tr>\n",
       "    <tr>\n",
       "      <th>...</th>\n",
       "      <td>...</td>\n",
       "      <td>...</td>\n",
       "      <td>...</td>\n",
       "      <td>...</td>\n",
       "      <td>...</td>\n",
       "      <td>...</td>\n",
       "      <td>...</td>\n",
       "      <td>...</td>\n",
       "      <td>...</td>\n",
       "      <td>...</td>\n",
       "      <td>...</td>\n",
       "      <td>...</td>\n",
       "      <td>...</td>\n",
       "      <td>...</td>\n",
       "      <td>...</td>\n",
       "      <td>...</td>\n",
       "      <td>...</td>\n",
       "      <td>...</td>\n",
       "      <td>...</td>\n",
       "    </tr>\n",
       "    <tr>\n",
       "      <th>4360</th>\n",
       "      <td>67</td>\n",
       "      <td>Male</td>\n",
       "      <td>Married, spouse present</td>\n",
       "      <td>0 children present</td>\n",
       "      <td>2</td>\n",
       "      <td>Bachelorâ€™s degree</td>\n",
       "      <td>Bachelor degree</td>\n",
       "      <td>Associate or Bachelor degree</td>\n",
       "      <td>Non-Hispanic White</td>\n",
       "      <td>0</td>\n",
       "      <td>U.S. state, territory, or outlying region</td>\n",
       "      <td>Yes, speaks only English</td>\n",
       "      <td>Employed</td>\n",
       "      <td>40000</td>\n",
       "      <td>Midwest</td>\n",
       "      <td>West North Central</td>\n",
       "      <td>Same house</td>\n",
       "      <td>2020</td>\n",
       "      <td>North Dakota</td>\n",
       "    </tr>\n",
       "    <tr>\n",
       "      <th>4361</th>\n",
       "      <td>48</td>\n",
       "      <td>Male</td>\n",
       "      <td>Married, spouse present</td>\n",
       "      <td>4</td>\n",
       "      <td>6</td>\n",
       "      <td>Associateâ€™s degree</td>\n",
       "      <td>Associate degree</td>\n",
       "      <td>Associate or Bachelor degree</td>\n",
       "      <td>Non-Hispanic White</td>\n",
       "      <td>0</td>\n",
       "      <td>U.S. state, territory, or outlying region</td>\n",
       "      <td>Yes, speaks only English</td>\n",
       "      <td>Employed</td>\n",
       "      <td>65000</td>\n",
       "      <td>Midwest</td>\n",
       "      <td>West North Central</td>\n",
       "      <td>Same house</td>\n",
       "      <td>2020</td>\n",
       "      <td>North Dakota</td>\n",
       "    </tr>\n",
       "    <tr>\n",
       "      <th>4362</th>\n",
       "      <td>33</td>\n",
       "      <td>Male</td>\n",
       "      <td>Married, spouse absent</td>\n",
       "      <td>0 children present</td>\n",
       "      <td>1</td>\n",
       "      <td>Associateâ€™s degree</td>\n",
       "      <td>Associate degree</td>\n",
       "      <td>Associate or Bachelor degree</td>\n",
       "      <td>Non-Hispanic Black</td>\n",
       "      <td>2017</td>\n",
       "      <td>Africa</td>\n",
       "      <td>Yes, speaks very well</td>\n",
       "      <td>Employed</td>\n",
       "      <td>45000</td>\n",
       "      <td>Midwest</td>\n",
       "      <td>West North Central</td>\n",
       "      <td>Same house</td>\n",
       "      <td>2020</td>\n",
       "      <td>North Dakota</td>\n",
       "    </tr>\n",
       "    <tr>\n",
       "      <th>4363</th>\n",
       "      <td>22</td>\n",
       "      <td>Female</td>\n",
       "      <td>Never married/single</td>\n",
       "      <td>0 children present</td>\n",
       "      <td>2</td>\n",
       "      <td>1 or more years of college, no degree</td>\n",
       "      <td>1 or more years of college, no degree</td>\n",
       "      <td>1 or more years of college, no degree</td>\n",
       "      <td>Non-Hispanic White</td>\n",
       "      <td>0</td>\n",
       "      <td>U.S. state, territory, or outlying region</td>\n",
       "      <td>Yes, speaks only English</td>\n",
       "      <td>Employed</td>\n",
       "      <td>500</td>\n",
       "      <td>Midwest</td>\n",
       "      <td>West North Central</td>\n",
       "      <td>Same house</td>\n",
       "      <td>2020</td>\n",
       "      <td>North Dakota</td>\n",
       "    </tr>\n",
       "    <tr>\n",
       "      <th>4364</th>\n",
       "      <td>49</td>\n",
       "      <td>Female</td>\n",
       "      <td>Married, spouse present</td>\n",
       "      <td>2</td>\n",
       "      <td>4</td>\n",
       "      <td>Masterâ€™s or professional degree</td>\n",
       "      <td>Master or professional degree</td>\n",
       "      <td>Master or PhD or professional degree</td>\n",
       "      <td>Non-Hispanic White</td>\n",
       "      <td>0</td>\n",
       "      <td>U.S. state, territory, or outlying region</td>\n",
       "      <td>Yes, speaks only English</td>\n",
       "      <td>Employed</td>\n",
       "      <td>498000</td>\n",
       "      <td>Midwest</td>\n",
       "      <td>West North Central</td>\n",
       "      <td>Same house</td>\n",
       "      <td>2020</td>\n",
       "      <td>North Dakota</td>\n",
       "    </tr>\n",
       "  </tbody>\n",
       "</table>\n",
       "<p>4365 rows × 19 columns</p>\n",
       "</div>"
      ],
      "text/plain": [
       "      Age     Sex           Marital_status  Number_of_children  Family_size  \\\n",
       "0      30    Male  Married, spouse present                   2            4   \n",
       "1      28  Female  Married, spouse present     1 child present            3   \n",
       "2      34    Male  Married, spouse present     1 child present            3   \n",
       "3      58  Female   Married, spouse absent     1 child present            2   \n",
       "4      39    Male     Never married/single  0 children present            1   \n",
       "...   ...     ...                      ...                 ...          ...   \n",
       "4360   67    Male  Married, spouse present  0 children present            2   \n",
       "4361   48    Male  Married, spouse present                   4            6   \n",
       "4362   33    Male   Married, spouse absent  0 children present            1   \n",
       "4363   22  Female     Never married/single  0 children present            2   \n",
       "4364   49  Female  Married, spouse present                   2            4   \n",
       "\n",
       "                    Education-degree_recode  \\\n",
       "0         Masterâ€™s or professional degree   \n",
       "1         Masterâ€™s or professional degree   \n",
       "2                       Bachelorâ€™s degree   \n",
       "3     1 or more years of college, no degree   \n",
       "4                       Bachelorâ€™s degree   \n",
       "...                                     ...   \n",
       "4360                    Bachelorâ€™s degree   \n",
       "4361                   Associateâ€™s degree   \n",
       "4362                   Associateâ€™s degree   \n",
       "4363  1 or more years of college, no degree   \n",
       "4364      Masterâ€™s or professional degree   \n",
       "\n",
       "                  Education-degree_recode 2  \\\n",
       "0             Master or professional degree   \n",
       "1             Master or professional degree   \n",
       "2                           Bachelor degree   \n",
       "3     1 or more years of college, no degree   \n",
       "4                           Bachelor degree   \n",
       "...                                     ...   \n",
       "4360                        Bachelor degree   \n",
       "4361                       Associate degree   \n",
       "4362                       Associate degree   \n",
       "4363  1 or more years of college, no degree   \n",
       "4364          Master or professional degree   \n",
       "\n",
       "                                  Education Race_ethnicity-multi_recode  \\\n",
       "0      Master or PhD or professional degree          Non-Hispanic White   \n",
       "1      Master or PhD or professional degree          Non-Hispanic White   \n",
       "2              Associate or Bachelor degree          Non-Hispanic White   \n",
       "3     1 or more years of college, no degree          Non-Hispanic White   \n",
       "4              Associate or Bachelor degree          Non-Hispanic White   \n",
       "...                                     ...                         ...   \n",
       "4360           Associate or Bachelor degree          Non-Hispanic White   \n",
       "4361           Associate or Bachelor degree          Non-Hispanic White   \n",
       "4362           Associate or Bachelor degree          Non-Hispanic Black   \n",
       "4363  1 or more years of college, no degree          Non-Hispanic White   \n",
       "4364   Master or PhD or professional degree          Non-Hispanic White   \n",
       "\n",
       "      Immigrate-year                          Birthplace_recode  \\\n",
       "0                  0  U.S. state, territory, or outlying region   \n",
       "1                  0  U.S. state, territory, or outlying region   \n",
       "2                  0  U.S. state, territory, or outlying region   \n",
       "3                  0  U.S. state, territory, or outlying region   \n",
       "4                  0  U.S. state, territory, or outlying region   \n",
       "...              ...                                        ...   \n",
       "4360               0  U.S. state, territory, or outlying region   \n",
       "4361               0  U.S. state, territory, or outlying region   \n",
       "4362            2017                                     Africa   \n",
       "4363               0  U.S. state, territory, or outlying region   \n",
       "4364               0  U.S. state, territory, or outlying region   \n",
       "\n",
       "                Speaks_English Employment_status  Income-wages Region_recode  \\\n",
       "0     Yes, speaks only English          Employed         63000         South   \n",
       "1     Yes, speaks only English          Employed         46000         South   \n",
       "2     Yes, speaks only English          Employed         45000         South   \n",
       "3     Yes, speaks only English          Employed         55000         South   \n",
       "4     Yes, speaks only English          Employed         12000         South   \n",
       "...                        ...               ...           ...           ...   \n",
       "4360  Yes, speaks only English          Employed         40000       Midwest   \n",
       "4361  Yes, speaks only English          Employed         65000       Midwest   \n",
       "4362     Yes, speaks very well          Employed         45000       Midwest   \n",
       "4363  Yes, speaks only English          Employed           500       Midwest   \n",
       "4364  Yes, speaks only English          Employed        498000       Midwest   \n",
       "\n",
       "     Region-division_recode       Moved  Year         state  \n",
       "0        East South Central  Same house  2020     Tennessee  \n",
       "1        East South Central  Same house  2020     Tennessee  \n",
       "2        East South Central  Same house  2020     Tennessee  \n",
       "3        East South Central  Same house  2020     Tennessee  \n",
       "4        East South Central  Same house  2020     Tennessee  \n",
       "...                     ...         ...   ...           ...  \n",
       "4360     West North Central  Same house  2020  North Dakota  \n",
       "4361     West North Central  Same house  2020  North Dakota  \n",
       "4362     West North Central  Same house  2020  North Dakota  \n",
       "4363     West North Central  Same house  2020  North Dakota  \n",
       "4364     West North Central  Same house  2020  North Dakota  \n",
       "\n",
       "[4365 rows x 19 columns]"
      ]
     },
     "execution_count": 41,
     "metadata": {},
     "output_type": "execute_result"
    }
   ],
   "source": [
    "wages_df=pd.read_excel('Wages 2020Census cleaned.xlsx')# importing an external dataset \n",
    "wages_df"
   ]
  },
  {
   "cell_type": "code",
   "execution_count": null,
   "id": "495f87f1-8108-4bbd-99e1-736b46c61857",
   "metadata": {},
   "outputs": [],
   "source": [
    "### If the specific data is unavailable, the median is often more representative for skewed income distributions as income data trends\n",
    "### tends to be right-skewed "
   ]
  },
  {
   "cell_type": "code",
   "execution_count": 42,
   "id": "1c09a1cf-1b6d-465a-b5e1-bc652ef3a749",
   "metadata": {},
   "outputs": [
    {
     "data": {
      "text/plain": [
       "np.float64(41000.0)"
      ]
     },
     "execution_count": 42,
     "metadata": {},
     "output_type": "execute_result"
    }
   ],
   "source": [
    "# TYPICAL YEARLY INCOME\n",
    "typical_yearly_income=wages_df['Income-wages'].median()#Used Numpy for calculations from the notebook 02. Intro to Numpy (1).ipynb\n",
    "typical_yearly_income"
   ]
  },
  {
   "cell_type": "markdown",
   "id": "fdfc4a7e-299d-4c79-b1f9-c256a8d8459b",
   "metadata": {},
   "source": [
    "# b)"
   ]
  },
  {
   "cell_type": "code",
   "execution_count": null,
   "id": "3132339a-8589-40be-a804-9e7c289333fa",
   "metadata": {},
   "outputs": [],
   "source": [
    "### In reference: Pages 10-11 of Lecture 4-Exploratory Data Analysis"
   ]
  },
  {
   "cell_type": "code",
   "execution_count": 43,
   "id": "d992d3c0-6e5f-4688-aafd-39aa454e7924",
   "metadata": {},
   "outputs": [
    {
     "data": {
      "text/plain": [
       "np.float64(68338.0614351565)"
      ]
     },
     "execution_count": 43,
     "metadata": {},
     "output_type": "execute_result"
    }
   ],
   "source": [
    "#Used Numpy for calculations from the notebook 02. Intro to Numpy (1).ipynb\n",
    "standard_deviation = wages_df['Income-wages'].std()\n",
    "standard_deviation#a large standard deviation indicates more variability"
   ]
  },
  {
   "cell_type": "code",
   "execution_count": 44,
   "id": "3d9cc543-fb90-4be1-b4ad-bd9ddb0ee518",
   "metadata": {},
   "outputs": [
    {
     "data": {
      "text/plain": [
       "np.float64(49000.0)"
      ]
     },
     "execution_count": 44,
     "metadata": {},
     "output_type": "execute_result"
    }
   ],
   "source": [
    " q3 = wages_df['Income-wages'].quantile(0.75)\n",
    " q1 = wages_df['Income-wages'].quantile(0.25)\n",
    "Interquartile_range= q3-q1\n",
    "Interquartile_range#a larger range indicates more variability "
   ]
  },
  {
   "cell_type": "markdown",
   "id": "344ac872-63aa-4930-b642-b3029892d314",
   "metadata": {},
   "source": [
    "# c)"
   ]
  },
  {
   "cell_type": "code",
   "execution_count": null,
   "id": "b66b50b9-b759-4c6d-ac19-1f2fb4ef752d",
   "metadata": {},
   "outputs": [],
   "source": [
    "### If there is no variability, all values are identical and  all incomes are equal"
   ]
  },
  {
   "cell_type": "code",
   "execution_count": null,
   "id": "3d2dec39-23b8-410f-97b6-c4622c859e8b",
   "metadata": {},
   "outputs": [],
   "source": [
    "### Refer to the section on Standard Deviation and IQR on page 11 for why they would be zero in the absence of variability.(data exploratory analysis)"
   ]
  },
  {
   "cell_type": "code",
   "execution_count": 46,
   "id": "d226a51b-e3bc-4b55-b4c7-9ebd76c95c80",
   "metadata": {},
   "outputs": [],
   "source": [
    "standard_deviation=0 #because the deviations from the mean are all zero\n",
    "IQR = 0 #(q1 and q3) would be equal since there's no spread in the data"
   ]
  },
  {
   "cell_type": "markdown",
   "id": "d36f455d-68cb-4a56-9c36-ec703d73df49",
   "metadata": {},
   "source": [
    "# d)"
   ]
  },
  {
   "cell_type": "markdown",
   "id": "db29715f-f924-4e4b-9fed-c07a645457d1",
   "metadata": {},
   "source": [
    "### If there is no variability, all incomes are the same"
   ]
  },
  {
   "cell_type": "code",
   "execution_count": null,
   "id": "d1d867b6-97a3-4c00-880b-e9ae5b112921",
   "metadata": {},
   "outputs": [],
   "source": [
    "### Refer to the section on Standard Deviation and IQR on page 11 for why they would be zero in the absence of variability.(04_exploratory_dataanalysis)"
   ]
  },
  {
   "cell_type": "code",
   "execution_count": 50,
   "id": "11bea6c0-f526-4c14-b176-8d5ab13307cd",
   "metadata": {},
   "outputs": [],
   "source": [
    "X=5000 #Assuming\n",
    "mean=X #since all values are identical\n",
    "median=X #middle value of a constant dataset\n",
    "q1=X #lower and upper quartiles are equal\n",
    "q3=X\n"
   ]
  },
  {
   "cell_type": "markdown",
   "id": "e58d3de9-ab3d-4d90-9751-a383c6e6c695",
   "metadata": {},
   "source": [
    "# e)"
   ]
  },
  {
   "cell_type": "markdown",
   "id": "4dec1dfb-c5e9-4341-a43d-05a28efb6e2c",
   "metadata": {},
   "source": [
    "## Possible causes or reasons for the variability in yearly incomes"
   ]
  },
  {
   "cell_type": "code",
   "execution_count": null,
   "id": "431030fa-dc03-418f-af1f-b6f3b032d231",
   "metadata": {},
   "outputs": [],
   "source": [
    "### In reference: Visualization techniques like box plots covered on page 4 (04 exploratory data analysis) and Intro to Matplotlib.ipynb "
   ]
  },
  {
   "cell_type": "code",
   "execution_count": null,
   "id": "4579f167-15fa-42e9-9893-2cbd652be7fe",
   "metadata": {},
   "outputs": [],
   "source": [
    "### Perform bivariate analysis between income and factors like education level or region"
   ]
  },
  {
   "cell_type": "code",
   "execution_count": 53,
   "id": "05853c10-600e-40b1-a9de-6b638d1f5a76",
   "metadata": {},
   "outputs": [
    {
     "data": {
      "image/png": "[encoded data removed]",
      "text/plain": [
       "<Figure size 1000x600 with 1 Axes>"
      ]
     },
     "metadata": {},
     "output_type": "display_data"
    }
   ],
   "source": [
    "# Create the box plot\n",
    "plt.figure(figsize=(10, 6)) \n",
    "sns.boxplot(x='Education', y='Income-wages', color='blue', data=wages_df)\n",
    "#title of the box plot\n",
    "plt.title('Income Distribution by Education', fontsize=16)\n",
    "#label for clarity\n",
    "plt.xlabel('Education', fontsize=14)\n",
    "plt.ylabel('Income (Wages)', fontsize=14)\n",
    "# Display of the plot\n",
    "plt.show()"
   ]
  },
  {
   "cell_type": "markdown",
   "id": "7329d8ce-1523-4548-a443-9a1b49d631bf",
   "metadata": {},
   "source": [
    "### Median income increases across education categories and higher income often correlates with higher incomes"
   ]
  },
  {
   "cell_type": "code",
   "execution_count": 51,
   "id": "93c3e035-751e-442e-b878-481e23ad140d",
   "metadata": {},
   "outputs": [
    {
     "data": {
      "image/png": "[encoded data removed]",
      "text/plain": [
       "<Figure size 1000x600 with 1 Axes>"
      ]
     },
     "metadata": {},
     "output_type": "display_data"
    }
   ],
   "source": [
    "#size of the box plot\n",
    "plt.figure(figsize=(10, 6)) \n",
    "sns.boxplot(x='Region_recode', y='Income-wages', color='green', data=wages_df)\n",
    "#Title of the Box plot\n",
    "plt.title('Income Distribution by Region', fontsize=16)\n",
    "#labels for clarity\n",
    "plt.xlabel('Region', fontsize=14)\n",
    "plt.ylabel('Income (Wages)', fontsize=14)\n",
    "#Display of the plot\n",
    "plt.show()"
   ]
  },
  {
   "cell_type": "markdown",
   "id": "fa6c2259-6e6b-4669-9e9a-a7dc9ec59b09",
   "metadata": {},
   "source": [
    "### Income spreads might be wider in urban regions or industries with diverse roles"
   ]
  },
  {
   "cell_type": "markdown",
   "id": "ba49f213-33ad-4c7b-a80d-f2a700fef700",
   "metadata": {},
   "source": [
    "# Question 2"
   ]
  },
  {
   "cell_type": "code",
   "execution_count": 51,
   "id": "da67e7a4-dcad-44f1-a6b5-2c5aee58da77",
   "metadata": {},
   "outputs": [
    {
     "data": {
      "text/html": [
       "<div>\n",
       "<style scoped>\n",
       "    .dataframe tbody tr th:only-of-type {\n",
       "        vertical-align: middle;\n",
       "    }\n",
       "\n",
       "    .dataframe tbody tr th {\n",
       "        vertical-align: top;\n",
       "    }\n",
       "\n",
       "    .dataframe thead th {\n",
       "        text-align: right;\n",
       "    }\n",
       "</style>\n",
       "<table border=\"1\" class=\"dataframe\">\n",
       "  <thead>\n",
       "    <tr style=\"text-align: right;\">\n",
       "      <th></th>\n",
       "      <th>StudentID</th>\n",
       "      <th>Gender</th>\n",
       "      <th>Age</th>\n",
       "      <th>StudyHoursPerWeek</th>\n",
       "      <th>AttendanceRate</th>\n",
       "      <th>GPA</th>\n",
       "      <th>Major</th>\n",
       "      <th>PartTimeJob</th>\n",
       "      <th>ExtraCurricularActivities</th>\n",
       "    </tr>\n",
       "  </thead>\n",
       "  <tbody>\n",
       "    <tr>\n",
       "      <th>0</th>\n",
       "      <td>1</td>\n",
       "      <td>Male</td>\n",
       "      <td>24</td>\n",
       "      <td>37</td>\n",
       "      <td>90.75</td>\n",
       "      <td>3.47</td>\n",
       "      <td>Arts</td>\n",
       "      <td>Yes</td>\n",
       "      <td>No</td>\n",
       "    </tr>\n",
       "    <tr>\n",
       "      <th>1</th>\n",
       "      <td>2</td>\n",
       "      <td>Female</td>\n",
       "      <td>22</td>\n",
       "      <td>37</td>\n",
       "      <td>74.90</td>\n",
       "      <td>2.32</td>\n",
       "      <td>Education</td>\n",
       "      <td>No</td>\n",
       "      <td>No</td>\n",
       "    </tr>\n",
       "    <tr>\n",
       "      <th>2</th>\n",
       "      <td>3</td>\n",
       "      <td>Male</td>\n",
       "      <td>22</td>\n",
       "      <td>10</td>\n",
       "      <td>53.36</td>\n",
       "      <td>2.38</td>\n",
       "      <td>Business</td>\n",
       "      <td>No</td>\n",
       "      <td>No</td>\n",
       "    </tr>\n",
       "    <tr>\n",
       "      <th>3</th>\n",
       "      <td>4</td>\n",
       "      <td>Male</td>\n",
       "      <td>24</td>\n",
       "      <td>10</td>\n",
       "      <td>70.26</td>\n",
       "      <td>3.46</td>\n",
       "      <td>Science</td>\n",
       "      <td>Yes</td>\n",
       "      <td>No</td>\n",
       "    </tr>\n",
       "    <tr>\n",
       "      <th>4</th>\n",
       "      <td>5</td>\n",
       "      <td>Male</td>\n",
       "      <td>18</td>\n",
       "      <td>19</td>\n",
       "      <td>74.87</td>\n",
       "      <td>2.31</td>\n",
       "      <td>Education</td>\n",
       "      <td>Yes</td>\n",
       "      <td>No</td>\n",
       "    </tr>\n",
       "    <tr>\n",
       "      <th>...</th>\n",
       "      <td>...</td>\n",
       "      <td>...</td>\n",
       "      <td>...</td>\n",
       "      <td>...</td>\n",
       "      <td>...</td>\n",
       "      <td>...</td>\n",
       "      <td>...</td>\n",
       "      <td>...</td>\n",
       "      <td>...</td>\n",
       "    </tr>\n",
       "    <tr>\n",
       "      <th>495</th>\n",
       "      <td>496</td>\n",
       "      <td>Male</td>\n",
       "      <td>22</td>\n",
       "      <td>37</td>\n",
       "      <td>76.61</td>\n",
       "      <td>2.97</td>\n",
       "      <td>Science</td>\n",
       "      <td>No</td>\n",
       "      <td>No</td>\n",
       "    </tr>\n",
       "    <tr>\n",
       "      <th>496</th>\n",
       "      <td>497</td>\n",
       "      <td>Male</td>\n",
       "      <td>23</td>\n",
       "      <td>11</td>\n",
       "      <td>56.29</td>\n",
       "      <td>3.20</td>\n",
       "      <td>Science</td>\n",
       "      <td>No</td>\n",
       "      <td>No</td>\n",
       "    </tr>\n",
       "    <tr>\n",
       "      <th>497</th>\n",
       "      <td>498</td>\n",
       "      <td>Female</td>\n",
       "      <td>20</td>\n",
       "      <td>6</td>\n",
       "      <td>56.64</td>\n",
       "      <td>3.20</td>\n",
       "      <td>Science</td>\n",
       "      <td>No</td>\n",
       "      <td>Yes</td>\n",
       "    </tr>\n",
       "    <tr>\n",
       "      <th>498</th>\n",
       "      <td>499</td>\n",
       "      <td>Male</td>\n",
       "      <td>22</td>\n",
       "      <td>18</td>\n",
       "      <td>57.18</td>\n",
       "      <td>2.05</td>\n",
       "      <td>Business</td>\n",
       "      <td>No</td>\n",
       "      <td>Yes</td>\n",
       "    </tr>\n",
       "    <tr>\n",
       "      <th>499</th>\n",
       "      <td>500</td>\n",
       "      <td>Female</td>\n",
       "      <td>24</td>\n",
       "      <td>21</td>\n",
       "      <td>96.99</td>\n",
       "      <td>2.64</td>\n",
       "      <td>Engineering</td>\n",
       "      <td>No</td>\n",
       "      <td>No</td>\n",
       "    </tr>\n",
       "  </tbody>\n",
       "</table>\n",
       "<p>500 rows × 9 columns</p>\n",
       "</div>"
      ],
      "text/plain": [
       "     StudentID  Gender  Age  StudyHoursPerWeek  AttendanceRate   GPA  \\\n",
       "0            1    Male   24                 37           90.75  3.47   \n",
       "1            2  Female   22                 37           74.90  2.32   \n",
       "2            3    Male   22                 10           53.36  2.38   \n",
       "3            4    Male   24                 10           70.26  3.46   \n",
       "4            5    Male   18                 19           74.87  2.31   \n",
       "..         ...     ...  ...                ...             ...   ...   \n",
       "495        496    Male   22                 37           76.61  2.97   \n",
       "496        497    Male   23                 11           56.29  3.20   \n",
       "497        498  Female   20                  6           56.64  3.20   \n",
       "498        499    Male   22                 18           57.18  2.05   \n",
       "499        500  Female   24                 21           96.99  2.64   \n",
       "\n",
       "           Major PartTimeJob ExtraCurricularActivities  \n",
       "0           Arts         Yes                        No  \n",
       "1      Education          No                        No  \n",
       "2       Business          No                        No  \n",
       "3        Science         Yes                        No  \n",
       "4      Education         Yes                        No  \n",
       "..           ...         ...                       ...  \n",
       "495      Science          No                        No  \n",
       "496      Science          No                        No  \n",
       "497      Science          No                       Yes  \n",
       "498     Business          No                       Yes  \n",
       "499  Engineering          No                        No  \n",
       "\n",
       "[500 rows x 9 columns]"
      ]
     },
     "execution_count": 51,
     "metadata": {},
     "output_type": "execute_result"
    }
   ],
   "source": [
    "student_df=pd.read_csv('student_performance_data.csv')\n",
    "student_df"
   ]
  },
  {
   "cell_type": "markdown",
   "id": "22c35a8b-76e0-4604-8b2a-b2d7b4d719df",
   "metadata": {},
   "source": [
    "# a)"
   ]
  },
  {
   "cell_type": "code",
   "execution_count": null,
   "id": "d81e7eb2-42f9-487b-bf35-aeb2509c5a92",
   "metadata": {},
   "outputs": [],
   "source": [
    "### In reference: Grouping data by categories (e.g., gender and major) is explained on page 3 of Lecture 4 - Exploratory Data Analysis [using Python]\n",
    "\n",
    "### Numeric operations are found in 02. Intro to Numpy.ipynb."
   ]
  },
  {
   "cell_type": "markdown",
   "id": "85ac3e84-4dd1-4804-8e24-bd8c47153f11",
   "metadata": {},
   "source": [
    "## Highest Total Study Hours by Gender and Major"
   ]
  },
  {
   "cell_type": "code",
   "execution_count": null,
   "id": "c5a62013-80ef-478d-b2da-d8b3d4cfbf05",
   "metadata": {},
   "outputs": [],
   "source": [
    "### Group data by gender and major, sum study hours and find the maximum"
   ]
  },
  {
   "cell_type": "code",
   "execution_count": 53,
   "id": "b552180f-8add-4586-96a4-5de73a0eaeaa",
   "metadata": {},
   "outputs": [
    {
     "data": {
      "text/plain": [
       "('Female', 'Business')"
      ]
     },
     "execution_count": 53,
     "metadata": {},
     "output_type": "execute_result"
    }
   ],
   "source": [
    "result = student_df.groupby(['Gender', 'Major'])['StudyHoursPerWeek'].sum().idxmax()\n",
    "result"
   ]
  },
  {
   "cell_type": "markdown",
   "id": "042585ff-00fe-48d7-a519-a8d9801098cd",
   "metadata": {},
   "source": [
    "# b)"
   ]
  },
  {
   "cell_type": "code",
   "execution_count": null,
   "id": "0111395a-e4b4-4b16-a204-3708e80fa532",
   "metadata": {},
   "outputs": [],
   "source": [
    "### In reference: Methods for computing averages and grouping data described on page 3 of Lecture 4 - Exploratory Data Analysis [using Python]."
   ]
  },
  {
   "cell_type": "markdown",
   "id": "60cb63d9-e22f-48cb-b0fa-55344e1328ed",
   "metadata": {},
   "source": [
    "## Highest Overall Attendance Rate"
   ]
  },
  {
   "cell_type": "code",
   "execution_count": null,
   "id": "7fb94183-d17f-4d28-a1d7-58bd86627a59",
   "metadata": {},
   "outputs": [],
   "source": [
    "### Group data by gender, calculate average attendance and return the maximum"
   ]
  },
  {
   "cell_type": "code",
   "execution_count": 60,
   "id": "37d8e587-c416-4ebd-8bf5-ed791da54e72",
   "metadata": {},
   "outputs": [
    {
     "data": {
      "text/plain": [
       "Gender\n",
       "Female    75.925742\n",
       "Male      74.009016\n",
       "Name: AttendanceRate, dtype: float64"
      ]
     },
     "execution_count": 60,
     "metadata": {},
     "output_type": "execute_result"
    }
   ],
   "source": [
    "average_attendance=student_df.groupby('Gender')['AttendanceRate'].mean()\n",
    "average_attendance"
   ]
  },
  {
   "cell_type": "markdown",
   "id": "1788ee6e-f687-413b-92de-66217db279af",
   "metadata": {},
   "source": [
    "# c)"
   ]
  },
  {
   "cell_type": "code",
   "execution_count": null,
   "id": "d6944798-0353-4e0a-8ba9-81bb3a19a4d8",
   "metadata": {},
   "outputs": [],
   "source": [
    "### In reference: Methods for analyzing categorical data discussed on pages 3-4 of Lecture 4 - Exploratory Data Analysis [using Python]."
   ]
  },
  {
   "cell_type": "markdown",
   "id": "de785d02-24dd-45f7-87d8-e297bb63079f",
   "metadata": {},
   "source": [
    "## Percentage with Part-Time Jobs"
   ]
  },
  {
   "cell_type": "code",
   "execution_count": null,
   "id": "51e40655-0ec0-4982-95bc-17bed27979e7",
   "metadata": {},
   "outputs": [],
   "source": [
    "### Count part-time job holders and divide by total students"
   ]
  },
  {
   "cell_type": "code",
   "execution_count": 61,
   "id": "16f25175-a530-48b2-9eea-722bc95fa0ab",
   "metadata": {},
   "outputs": [
    {
     "data": {
      "text/plain": [
       "PartTimeJob\n",
       "Yes    53.6\n",
       "No     46.4\n",
       "Name: proportion, dtype: float64"
      ]
     },
     "execution_count": 61,
     "metadata": {},
     "output_type": "execute_result"
    }
   ],
   "source": [
    "percentage_with_jobs = (student_df['PartTimeJob'].value_counts(normalize=True) * 100)\n",
    "percentage_with_jobs"
   ]
  },
  {
   "cell_type": "markdown",
   "id": "01c9f400-b639-4ce1-b971-2c9b0e39669b",
   "metadata": {},
   "source": [
    "# d)"
   ]
  },
  {
   "cell_type": "code",
   "execution_count": null,
   "id": "cbb4768d-1a93-4702-a47c-b4650267d5ab",
   "metadata": {},
   "outputs": [],
   "source": [
    "### Refer to the section on measures of central tendency and variability (pages 7-10) for calculating mean and variance \n",
    "###Pages 7-11 in Lecture 4 - Exploratory Data Analysis [using Python] \n"
   ]
  },
  {
   "cell_type": "markdown",
   "id": "093fa234-1d1d-46af-8aa3-5be5ad43f22b",
   "metadata": {},
   "source": [
    "## Mean GPA And variance of age"
   ]
  },
  {
   "cell_type": "code",
   "execution_count": null,
   "id": "2020c37a-ed39-437c-b7d1-93dde96b1c7e",
   "metadata": {},
   "outputs": [],
   "source": [
    "### Group by gender and compute"
   ]
  },
  {
   "cell_type": "code",
   "execution_count": 63,
   "id": "b91012f1-d902-4c79-a5a0-7540371aa99d",
   "metadata": {},
   "outputs": [
    {
     "data": {
      "text/html": [
       "<div>\n",
       "<style scoped>\n",
       "    .dataframe tbody tr th:only-of-type {\n",
       "        vertical-align: middle;\n",
       "    }\n",
       "\n",
       "    .dataframe tbody tr th {\n",
       "        vertical-align: top;\n",
       "    }\n",
       "\n",
       "    .dataframe thead th {\n",
       "        text-align: right;\n",
       "    }\n",
       "</style>\n",
       "<table border=\"1\" class=\"dataframe\">\n",
       "  <thead>\n",
       "    <tr style=\"text-align: right;\">\n",
       "      <th></th>\n",
       "      <th>GPA</th>\n",
       "      <th>Age</th>\n",
       "    </tr>\n",
       "    <tr>\n",
       "      <th>Gender</th>\n",
       "      <th></th>\n",
       "      <th></th>\n",
       "    </tr>\n",
       "  </thead>\n",
       "  <tbody>\n",
       "    <tr>\n",
       "      <th>Female</th>\n",
       "      <td>2.995352</td>\n",
       "      <td>4.005637</td>\n",
       "    </tr>\n",
       "    <tr>\n",
       "      <th>Male</th>\n",
       "      <td>2.974467</td>\n",
       "      <td>3.960130</td>\n",
       "    </tr>\n",
       "  </tbody>\n",
       "</table>\n",
       "</div>"
      ],
      "text/plain": [
       "             GPA       Age\n",
       "Gender                    \n",
       "Female  2.995352  4.005637\n",
       "Male    2.974467  3.960130"
      ]
     },
     "execution_count": 63,
     "metadata": {},
     "output_type": "execute_result"
    }
   ],
   "source": [
    "statistics = student_df.groupby('Gender').agg({'GPA': 'mean', 'Age': 'var'})\n",
    "statistics"
   ]
  },
  {
   "cell_type": "markdown",
   "id": "a6b1464c-feab-44cd-9e8a-0e1ac071905a",
   "metadata": {},
   "source": [
    "# e)"
   ]
  },
  {
   "cell_type": "code",
   "execution_count": null,
   "id": "f221bfa5-50b1-4532-8c49-2f7ada724653",
   "metadata": {},
   "outputs": [],
   "source": [
    "###Citation: Scatterplots and pair plots are explained on pages 4-5 in Lecture 4 - Exploratory Data Analysis [using Python] and also \n",
    "###are in 04. Intro to Matplotlib.ipynb."
   ]
  },
  {
   "cell_type": "markdown",
   "id": "f617ea64-a517-4143-9412-c6a02f09e264",
   "metadata": {},
   "source": [
    "## Create a visualization that effectively shows if there is a relationship between any two variables"
   ]
  },
  {
   "cell_type": "code",
   "execution_count": null,
   "id": "cfa87fb1-e7f0-4da2-9acb-a1eae2077be3",
   "metadata": {},
   "outputs": [],
   "source": [
    "### We choose two variables such as GPA vs study hours and visualize using Seaborn/Matplotlib"
   ]
  },
  {
   "cell_type": "code",
   "execution_count": 66,
   "id": "6a77f4a6-3fcb-4fc9-88a1-c3da34e00392",
   "metadata": {},
   "outputs": [
    {
     "data": {
      "text/plain": [
       "[]"
      ]
     },
     "execution_count": 66,
     "metadata": {},
     "output_type": "execute_result"
    },
    {
     "data": {
      "image/png": "[encoded data removed]",
      "text/plain": [
       "<Figure size 640x480 with 1 Axes>"
      ]
     },
     "metadata": {},
     "output_type": "display_data"
    }
   ],
   "source": [
    "sns.scatterplot(x='StudyHoursPerWeek', y='GPA', data=student_df)\n",
    "plt.title('Visualization of GPA against StudyHoursPerWeek',color='darkblue')\n",
    "plt.plot()"
   ]
  },
  {
   "cell_type": "markdown",
   "id": "67b87e2d-255f-45c3-bdef-f7991b2b7b55",
   "metadata": {},
   "source": [
    "# Question 3"
   ]
  },
  {
   "cell_type": "markdown",
   "id": "aa67c406-ffd4-4631-9f5d-40b441677fec",
   "metadata": {},
   "source": [
    "# a)"
   ]
  },
  {
   "cell_type": "code",
   "execution_count": null,
   "id": "3de006ce-d722-414b-b704-78f5d2573f54",
   "metadata": {},
   "outputs": [],
   "source": [
    "###  In reference: 06. univariate_linear_regression.ipynb, under \"Model Training and Evaluation\"."
   ]
  },
  {
   "cell_type": "markdown",
   "id": "3a57b862-3cdc-43ed-a178-ad627e3fcd5c",
   "metadata": {},
   "source": [
    "## Steps involved in fitting a linear regression in python"
   ]
  },
  {
   "cell_type": "markdown",
   "id": "cbbebcfd-dabc-44a6-895e-239c9874dd4e",
   "metadata": {},
   "source": [
    "### 1.Import libraries: Use libraries like pandas, numpy and scikit-learn\n",
    "### 2.Load and preprocess data: Import the dataset, handle missing values and encode categorical features if needed\n",
    "### 3.Split data: Use train_test_split to divide the dataset into training and testing sets.\n",
    "### 4.Select and initialize model: Import Linear Regression from sklearn and create a model instance\n",
    "### 5.Train the model: Use the fit() method with training data (X_train, y_train).\n",
    "### 6.Make predictions: Use the predict() method on test data.\n",
    "### 7.Evaluate the model: Compute metrics like Mean Squared Error (MSE), Mean Absolute Error (MAE), or R² score.\n"
   ]
  },
  {
   "cell_type": "markdown",
   "id": "9204a835-ea00-4379-b2fe-c1cec8d33147",
   "metadata": {},
   "source": [
    "# b)"
   ]
  },
  {
   "cell_type": "code",
   "execution_count": null,
   "id": "f1c4c209-a7de-4e20-99b5-745c354b540e",
   "metadata": {},
   "outputs": [],
   "source": [
    "### In reference: 06. univariate_linear_regression.ipynb, in the introductory sections"
   ]
  },
  {
   "cell_type": "markdown",
   "id": "8ae851dc-778a-4cfb-b3b1-079f5c9bab37",
   "metadata": {},
   "source": [
    "## Assumptions of Linear Regression"
   ]
  },
  {
   "cell_type": "markdown",
   "id": "e70bd7c1-8380-4a01-bb9c-dac81b609c21",
   "metadata": {},
   "source": [
    "### 1.\tLinearity: The relationship between the independent and dependent variable is linear.\n",
    "### 2.\tIndependence: Observations are independent of each other.\n",
    "### 3.\tHomoscedasticity: The variance of residuals is constant across all levels of the independent variables.\n",
    "### 4.\tNormality of Residuals: Residuals (errors) are normally distributed.\n",
    "### 5.\tNo multicollinearity: Independent variables should not be highly correlated with each other.\n"
   ]
  },
  {
   "cell_type": "markdown",
   "id": "dcc6a9ef-3316-4f30-9cdb-ffb10b544b0c",
   "metadata": {},
   "source": [
    "# c)"
   ]
  },
  {
   "cell_type": "code",
   "execution_count": null,
   "id": "21c5efd3-dd6b-41bf-a80c-4b450bbbadd3",
   "metadata": {},
   "outputs": [],
   "source": [
    "### In reference: 06.univariate_linear_regression.ipynb, under \"Model Training and Output Interpretation\""
   ]
  },
  {
   "cell_type": "code",
   "execution_count": 5,
   "id": "32b93975-20f0-4c81-8da5-0cc98dbd4c4d",
   "metadata": {},
   "outputs": [],
   "source": [
    "from sklearn.model_selection import train_test_split\n",
    "from sklearn.linear_model import LinearRegression\n",
    "from sklearn.metrics import mean_absolute_error"
   ]
  },
  {
   "cell_type": "code",
   "execution_count": 6,
   "id": "86b07587-181c-49d5-bf76-ac54e15a779c",
   "metadata": {},
   "outputs": [],
   "source": [
    "wages_df=pd.read_excel('Wages 2020Census cleaned.xlsx')# importing an external dataset "
   ]
  },
  {
   "cell_type": "code",
   "execution_count": 7,
   "id": "710b89b1-ffe4-440e-b9bd-8098db8ddd45",
   "metadata": {},
   "outputs": [],
   "source": [
    "wages_df = wages_df.dropna()  # Remove rows with missing values"
   ]
  },
  {
   "cell_type": "code",
   "execution_count": 20,
   "id": "ab967388-8341-4c0f-86ff-9750a01a4059",
   "metadata": {},
   "outputs": [
    {
     "name": "stdout",
     "output_type": "stream",
     "text": [
      "coefficients: [-1482.20818752]\n",
      "Intercept: 63845.446358076086\n",
      "Mean Absolute Error: 37561.28065670308\n"
     ]
    }
   ],
   "source": [
    "#Features and target\n",
    "x=wages_df[['Family_size']]# Feature column\n",
    "y=wages_df['Income-wages']#Target column\n",
    "\n",
    "# Split the dataset into training and test sets\n",
    "x_train, x_test, y_train, y_test = train_test_split(x, y, test_size=0.2, random_state=42)\n",
    "\n",
    "#Initialize the Linear Regression model\n",
    "model = LinearRegression()\n",
    "\n",
    "# Train the model\n",
    "model.fit(x_train, y_train)\n",
    "\n",
    "# Extract coefficients and intercept\n",
    "coefficients = model.coef_\n",
    "intercept = model.intercept_\n",
    "\n",
    "print('coefficients:',coefficients)\n",
    "print(f\"Intercept: {intercept}\")\n",
    "\n",
    "# make predictions\n",
    "y_pred = model.predict(x_test)\n",
    "\n",
    "# Evaluate the model\n",
    "mae = mean_absolute_error(y_test, y_pred)\n",
    "print(f\"Mean Absolute Error: {mae}\")"
   ]
  },
  {
   "cell_type": "markdown",
   "id": "3077cc2d-ff38-4247-a24f-558552985441",
   "metadata": {},
   "source": [
    "# d)"
   ]
  },
  {
   "cell_type": "code",
   "execution_count": null,
   "id": "16982257-ed99-4125-bbef-fe3b97397e3f",
   "metadata": {},
   "outputs": [],
   "source": [
    "### In reference: 06. univariate_linear_regression.ipynb, under \"Model Evaluation\""
   ]
  },
  {
   "cell_type": "code",
   "execution_count": null,
   "id": "0a10d60c-230a-49f5-b452-65fd144954bb",
   "metadata": {},
   "outputs": [],
   "source": [
    "### "
   ]
  },
  {
   "cell_type": "markdown",
   "id": "bee1f392-71b4-45fe-84c3-3be8cdc1ccf5",
   "metadata": {},
   "source": [
    "## The Mean Absolute Error(MSE)"
   ]
  },
  {
   "cell_type": "code",
   "execution_count": 16,
   "id": "30b847ad-f3db-414f-bbc5-d1a58373de11",
   "metadata": {},
   "outputs": [
    {
     "name": "stdout",
     "output_type": "stream",
     "text": [
      "Mean Absolute Error: 37561.28\n"
     ]
    }
   ],
   "source": [
    "from sklearn.metrics import mean_absolute_error\n",
    "# Make predictions\n",
    "y_pred = model.predict(x_test)\n",
    "\n",
    "# Calculate Mean Absolute Error\n",
    "mae = mean_absolute_error(y_test, y_pred)\n",
    "print(f\"Mean Absolute Error: {mae:.2f}\")"
   ]
  },
  {
   "cell_type": "markdown",
   "id": "99c225a0-d17e-412c-8bdb-b9d78394931f",
   "metadata": {},
   "source": [
    "# e)"
   ]
  },
  {
   "cell_type": "code",
   "execution_count": null,
   "id": "b8000ff8-f9c9-4fec-b848-76c446f3b419",
   "metadata": {},
   "outputs": [],
   "source": [
    "### In reference: 06. univariate_linear_regression.ipynb, in the results analysis section"
   ]
  },
  {
   "cell_type": "markdown",
   "id": "cdf73551-8b03-4eff-85b6-92607d9abb0c",
   "metadata": {},
   "source": [
    "## The key outputs from a linear regression model"
   ]
  },
  {
   "cell_type": "markdown",
   "id": "cb9cd542-7855-48e7-89bc-d699352fbd5b",
   "metadata": {},
   "source": [
    "### 1. Coefficients: Interpret as the change in the target variable (y) for a one-unit increase in x\n",
    "### 2. Intercept is the predicted value of the target variable (y) when all features (x) are zero.\n",
    "### 3. Rsquared score: Proportion of variance in yyy explained by the model. Higher values indicate a better fit.\n",
    "### 4. Residuals: Differences between actual and predicted values; used to assess model fit.\n",
    "### 5.The MAE measures the average absolute difference between the predicted and actual values. A lower MAE indicates a more accurate model."
   ]
  },
  {
   "cell_type": "markdown",
   "id": "45704a24-348a-4d93-85ad-776cf877089c",
   "metadata": {},
   "source": [
    "# f)"
   ]
  },
  {
   "cell_type": "code",
   "execution_count": null,
   "id": "0afe83c2-5b78-4a7a-a2b5-63dce4a6b28c",
   "metadata": {},
   "outputs": [],
   "source": [
    "### In reference: Pages 4-5 lecture 4( exploratory data analysis) and in 04. Intro to Matplotlib.ipynb"
   ]
  },
  {
   "cell_type": "markdown",
   "id": "1acf436b-dabe-47b0-be78-69a95ae4d03d",
   "metadata": {},
   "source": [
    "## The Linear regression model"
   ]
  },
  {
   "cell_type": "code",
   "execution_count": null,
   "id": "995a0108-e8f1-4114-ad5a-e8844045b359",
   "metadata": {},
   "outputs": [],
   "source": [
    "### Use scatterplots to visualize the model"
   ]
  },
  {
   "cell_type": "code",
   "execution_count": 22,
   "id": "feee3a65-9f8e-4b00-a628-34343cfda851",
   "metadata": {},
   "outputs": [
    {
     "data": {
      "image/png": "[encoded data removed]",
      "text/plain": [
       "<Figure size 640x480 with 1 Axes>"
      ]
     },
     "metadata": {},
     "output_type": "display_data"
    }
   ],
   "source": [
    "plt.scatter(x_test, y_test, color='blue', label='Actual Data')\n",
    "plt.plot(x_test, y_pred, color='red', label='Regression Line')\n",
    "plt.xlabel('Family_size')\n",
    "plt.ylabel('Income-wages')\n",
    "plt.title('Linear Regression Model')\n",
    "plt.legend()\n",
    "plt.show()"
   ]
  },
  {
   "cell_type": "markdown",
   "id": "504508e3-3a7d-4e9e-bdd5-9e4210102b4e",
   "metadata": {},
   "source": [
    "# BONUS QUESTION"
   ]
  },
  {
   "cell_type": "code",
   "execution_count": null,
   "id": "5eab75f7-348d-4290-9f0c-f02d04721784",
   "metadata": {},
   "outputs": [],
   "source": [
    "### In reference: 02. Intro to Numpy.ipynb, mathematical computing and stack overflow"
   ]
  },
  {
   "cell_type": "markdown",
   "id": "541047a9-1c45-415b-93ab-7f34bdebd3d2",
   "metadata": {},
   "source": [
    "# a)"
   ]
  },
  {
   "cell_type": "markdown",
   "id": "f53b47a5-47d1-461c-a3fc-5157614422c5",
   "metadata": {},
   "source": [
    "## 5x3 matrix by a 3x2 matrix (real matrix product) "
   ]
  },
  {
   "cell_type": "code",
   "execution_count": 23,
   "id": "d5a265a3-71eb-4297-985f-74a6218002c0",
   "metadata": {},
   "outputs": [
    {
     "data": {
      "text/plain": [
       "array([[0.68935043, 0.07966907],\n",
       "       [1.32346997, 0.14759285],\n",
       "       [0.9391973 , 0.06424548],\n",
       "       [1.31623134, 0.18129867],\n",
       "       [0.78468587, 0.14053571]])"
      ]
     },
     "execution_count": 23,
     "metadata": {},
     "output_type": "execute_result"
    }
   ],
   "source": [
    "# Creating matrices\n",
    "A=np.random.random((5,3))\n",
    "B=np.random.random((3,2))\n",
    "\n",
    "# Matrix multiplication\n",
    "matrix_multiplication=np.dot(A,B)\n",
    "matrix_multiplication"
   ]
  },
  {
   "cell_type": "markdown",
   "id": "ed95ed0d-616b-40b4-a483-63b9552bfa0a",
   "metadata": {},
   "source": [
    "# b)"
   ]
  },
  {
   "cell_type": "markdown",
   "id": "519046de-fe15-4a8b-ad43-a190e5b1657d",
   "metadata": {},
   "source": [
    "##  A 3x3 identity matrix"
   ]
  },
  {
   "cell_type": "code",
   "execution_count": 24,
   "id": "de53bc94-0104-44c1-b697-5b005875460d",
   "metadata": {},
   "outputs": [
    {
     "data": {
      "text/plain": [
       "array([[1., 0., 0.],\n",
       "       [0., 1., 0.],\n",
       "       [0., 0., 1.]])"
      ]
     },
     "execution_count": 24,
     "metadata": {},
     "output_type": "execute_result"
    }
   ],
   "source": [
    "np.eye(3)"
   ]
  },
  {
   "cell_type": "markdown",
   "id": "67e8506c-fe10-457b-9bd9-9682822d004a",
   "metadata": {},
   "source": [
    "# c)"
   ]
  },
  {
   "cell_type": "markdown",
   "id": "7c1d2fe4-6f47-4d31-8c27-337a9d2d2da9",
   "metadata": {},
   "source": [
    "## A vector with values ranging from 10 to 49)"
   ]
  },
  {
   "cell_type": "code",
   "execution_count": 26,
   "id": "e09823f2-cef2-46f0-a96f-82ae5e60d110",
   "metadata": {},
   "outputs": [
    {
     "data": {
      "text/plain": [
       "array([10, 11, 12, 13, 14, 15, 16, 17, 18, 19, 20, 21, 22, 23, 24, 25, 26,\n",
       "       27, 28, 29, 30, 31, 32, 33, 34, 35, 36, 37, 38, 39, 40, 41, 42, 43,\n",
       "       44, 45, 46, 47, 48, 49])"
      ]
     },
     "execution_count": 26,
     "metadata": {},
     "output_type": "execute_result"
    }
   ],
   "source": [
    "vector = np.arange(10, 50)\n",
    "vector"
   ]
  },
  {
   "cell_type": "markdown",
   "id": "f287ee7b-2eb4-4984-9eb9-8a451bc58b67",
   "metadata": {},
   "source": [
    "# d)"
   ]
  },
  {
   "cell_type": "markdown",
   "id": "7e4288f2-35b4-4019-806b-d4f8bf5ae25f",
   "metadata": {},
   "source": [
    "## A null vector of size 10"
   ]
  },
  {
   "cell_type": "code",
   "execution_count": 28,
   "id": "d685cdf5-8fae-4ded-987a-6bfbb52031d8",
   "metadata": {},
   "outputs": [
    {
     "data": {
      "text/plain": [
       "array([0., 0., 0., 0., 0., 0., 0., 0., 0., 0.])"
      ]
     },
     "execution_count": 28,
     "metadata": {},
     "output_type": "execute_result"
    }
   ],
   "source": [
    "vector=np.zeros(10)\n",
    "vector"
   ]
  },
  {
   "cell_type": "markdown",
   "id": "63fd27c1-37bf-4511-a181-c722c1f7f50e",
   "metadata": {},
   "source": [
    "# e)"
   ]
  },
  {
   "cell_type": "markdown",
   "id": "7a976af7-5eb4-4e8a-a47c-f0ff5fdc4d7c",
   "metadata": {},
   "source": [
    "## A 3x3x3 array with random values"
   ]
  },
  {
   "cell_type": "code",
   "execution_count": 29,
   "id": "4506adde-cfaf-4ab0-a542-a475feebffb7",
   "metadata": {},
   "outputs": [
    {
     "data": {
      "text/plain": [
       "array([[[0.12075139, 0.29836978, 0.2765167 ],\n",
       "        [0.37280317, 0.424168  , 0.04292986],\n",
       "        [0.94262135, 0.77552718, 0.33331169]],\n",
       "\n",
       "       [[0.51402785, 0.91964031, 0.35954896],\n",
       "        [0.1381587 , 0.70959138, 0.09970494],\n",
       "        [0.98001161, 0.80416606, 0.70581356]],\n",
       "\n",
       "       [[0.55761499, 0.11185757, 0.05922414],\n",
       "        [0.10363093, 0.42246175, 0.552208  ],\n",
       "        [0.61332657, 0.23428509, 0.28303496]]])"
      ]
     },
     "execution_count": 29,
     "metadata": {},
     "output_type": "execute_result"
    }
   ],
   "source": [
    "random_array=np.random.random((3,3,3))\n",
    "random_array"
   ]
  },
  {
   "cell_type": "markdown",
   "id": "6c3c2bd0-34b1-4088-935b-cd3adcab2422",
   "metadata": {},
   "source": [
    "# f)"
   ]
  },
  {
   "cell_type": "markdown",
   "id": "e2b00f34-99e0-459c-9ec2-a67934df7329",
   "metadata": {},
   "source": [
    "## A 5x5 matrix with values 1, 2, 3, 4 just below the diagonal"
   ]
  },
  {
   "cell_type": "code",
   "execution_count": 30,
   "id": "62e79a5b-d9ef-41a7-baa2-1feadfd1f3f7",
   "metadata": {},
   "outputs": [
    {
     "data": {
      "text/plain": [
       "array([[0, 0, 0, 0, 0],\n",
       "       [1, 0, 0, 0, 0],\n",
       "       [0, 2, 0, 0, 0],\n",
       "       [0, 0, 3, 0, 0],\n",
       "       [0, 0, 0, 4, 0]])"
      ]
     },
     "execution_count": 30,
     "metadata": {},
     "output_type": "execute_result"
    }
   ],
   "source": [
    "matrix = np.diag([1, 2, 3, 4], k=-1)\n",
    "matrix"
   ]
  },
  {
   "cell_type": "markdown",
   "id": "b228463f-7f2f-4d97-ba4c-e13062996836",
   "metadata": {},
   "source": [
    "# g)"
   ]
  },
  {
   "cell_type": "markdown",
   "id": "a0adfc0e-bd1a-4665-9cac-9bc92e28c9ca",
   "metadata": {},
   "source": [
    "## Normalize a 5x5 random matrix"
   ]
  },
  {
   "cell_type": "code",
   "execution_count": 33,
   "id": "88d5b21c-d2cc-403b-8826-349a27c33d51",
   "metadata": {},
   "outputs": [
    {
     "data": {
      "text/plain": [
       "array([[0.00261284, 0.10317564, 0.9436419 , 0.31114707, 0.65690216],\n",
       "       [0.        , 0.05789345, 0.41988282, 1.        , 0.95503723],\n",
       "       [0.83685165, 0.05543216, 0.45426263, 0.7184385 , 0.25818638],\n",
       "       [0.05534827, 0.77226615, 0.19773868, 0.04412601, 0.96843264],\n",
       "       [0.61937939, 0.29295124, 0.04788825, 0.2698012 , 0.42639062]])"
      ]
     },
     "execution_count": 33,
     "metadata": {},
     "output_type": "execute_result"
    }
   ],
   "source": [
    "# Subtract the minimum value and divide by the range (max - min) for normalization.\n",
    "random_matrix = np.random.random((5, 5))\n",
    "normalized_matrix=(random_matrix - random_matrix.min())/(random_matrix.max() - random_matrix.min())\n",
    "normalized_matrix"
   ]
  },
  {
   "cell_type": "markdown",
   "id": "1875bd2d-b898-40ac-b278-548401fb21c1",
   "metadata": {},
   "source": [
    "# h)"
   ]
  },
  {
   "cell_type": "markdown",
   "id": "c13b2784-fe83-4e67-ae2d-689c55a2c0e2",
   "metadata": {},
   "source": [
    "## Get the dates of yesterday, today, and tomorrow"
   ]
  },
  {
   "cell_type": "code",
   "execution_count": null,
   "id": "4aa3beb0-bf49-4d01-a58e-a4ab259d554d",
   "metadata": {},
   "outputs": [],
   "source": [
    "### Here we use python's datetime module"
   ]
  },
  {
   "cell_type": "code",
   "execution_count": 56,
   "id": "c26c1926-d288-4ad0-95f0-a3ca4a59ec9e",
   "metadata": {},
   "outputs": [],
   "source": [
    "from datetime import date, timedelta"
   ]
  },
  {
   "cell_type": "code",
   "execution_count": 58,
   "id": "895f9490-c408-4cfa-a190-6e0ac83ab39d",
   "metadata": {},
   "outputs": [
    {
     "name": "stdout",
     "output_type": "stream",
     "text": [
      "2024-12-13\n"
     ]
    }
   ],
   "source": [
    "today = date.today()\n",
    "yesterday = today - timedelta(days=1)\n",
    "\n",
    "tomorrow = today + timedelta(days=1)\n",
    "print(tomorrow)"
   ]
  },
  {
   "cell_type": "markdown",
   "id": "aafca6c6-a92d-425b-9939-144fb0321682",
   "metadata": {},
   "source": [
    "# i)"
   ]
  },
  {
   "cell_type": "markdown",
   "id": "47273a84-0dd4-4763-b273-5be21a543cc3",
   "metadata": {},
   "source": [
    "## Find indices of non-zero elements from [1, 2, 0, 0, 4, 0]"
   ]
  },
  {
   "cell_type": "code",
   "execution_count": 36,
   "id": "a16fed36-f6b7-4185-9a16-fea807ea3242",
   "metadata": {},
   "outputs": [
    {
     "data": {
      "text/plain": [
       "array([0, 1, 4])"
      ]
     },
     "execution_count": 36,
     "metadata": {},
     "output_type": "execute_result"
    }
   ],
   "source": [
    "array = np.array([1, 2, 0, 0, 4, 0])\n",
    "non_zero_indices = np.nonzero(array)[0]\n",
    "non_zero_indices"
   ]
  },
  {
   "cell_type": "code",
   "execution_count": null,
   "id": "5527c217-653d-4e47-8f3d-c825ae2a426a",
   "metadata": {},
   "outputs": [],
   "source": []
  }
 ],
 "metadata": {
  "kernelspec": {
   "display_name": "Python 3 (ipykernel)",
   "language": "python",
   "name": "python3"
  },
  "language_info": {
   "codemirror_mode": {
    "name": "ipython",
    "version": 3
   },
   "file_extension": ".py",
   "mimetype": "text/x-python",
   "name": "python",
   "nbconvert_exporter": "python",
   "pygments_lexer": "ipython3",
   "version": "3.12.8"
  }
 },
 "nbformat": 4,
 "nbformat_minor": 5
}
